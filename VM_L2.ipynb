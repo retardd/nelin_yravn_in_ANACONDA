{
 "cells": [
  {
   "cell_type": "code",
   "execution_count": 61,
   "id": "9c6f033f",
   "metadata": {},
   "outputs": [
    {
     "name": "stdout",
     "output_type": "stream",
     "text": [
      "n итер. | приближение X(n)           |  Апостериорная оценка                             |\n",
      "________|____________________________|___________________________________________________|\n",
      "  1     |  0.0011523160122266646     |  0.0011523160122266646 <= 0.00035423178980223315  |\n",
      "________|____________________________|___________________________________________________|\n",
      "  2     |  -3.8265646704419834e-05   |  3.8265646704419834e-05 <= 1.1763186813532072e-05 |\n",
      "________|____________________________|___________________________________________________|\n",
      "  3     |  1.3243289653390894e-06    |  1.3243289653390894e-06 <= 4.0711004160439267e-07 |\n",
      "________|____________________________|___________________________________________________|\n",
      "  4     |  -4.577182898128929e-08    |  4.577182898128929e-08 <= 1.407065139295705e-08   |\n",
      "________|____________________________|___________________________________________________|\n",
      "  5     |  1.5820525124737107e-09    |  1.5820525124737107e-09 <= 4.863364624880758e-10  |\n",
      "________|____________________________|___________________________________________________|\n",
      "  6     |  -5.4681802684971623e-11   |  5.4681802684971623e-11 <= 1.680965345372629e-11  |\n",
      "________|____________________________|___________________________________________________|\n",
      "  7     |  1.8900129343149193e-12    |  1.8900129343149193e-12 <= 5.81006127978764e-13   |\n",
      "________|____________________________|___________________________________________________|\n",
      "  8     |  -6.53260995359588e-14     |  6.53260995359588e-14 <= 2.008180127142908e-14    |\n",
      "________|____________________________|___________________________________________________|\n",
      "  9     |  2.257920675242724e-15     |  2.257920675242724e-15 <= 6.941041116639175e-16   |\n",
      "________|____________________________|___________________________________________________|\n",
      "m = 6.506 ; M = 10.506\n",
      "alpha = 0.11756; q = 0.23513; e = 0.00000; x0 = -0.020;\n",
      "x = 2.257920675242724e-15; f(x) = 1.986970194213592e-14; кол-во итераций: 9.\n",
      "\n",
      "\n",
      "1 Скорость убывания погрешности: -0.05761580061133323\n",
      "\n",
      "2 Скорость убывания погрешности: -0.033207597827680665\n",
      "\n",
      "3 Скорость убывания погрешности: -0.03460882225691286\n",
      "\n",
      "4 Скорость убывания погрешности: -0.03456228035423931\n",
      "\n",
      "5 Скорость убывания погрешности: -0.0345638911025475\n",
      "\n",
      "6 Скорость убывания погрешности: -0.03456383543139835\n",
      "\n",
      "7 Скорость убывания погрешности: -0.034563837355610035\n",
      "\n",
      "8 Скорость убывания погрешности: -0.03456383728910185\n",
      "\n",
      "9 Скорость убывания погрешности: -0.034563837291400654\n",
      "\n"
     ]
    }
   ],
   "source": [
    "import numpy as np\n",
    "import matplotlib.pyplot as plt\n",
    "from scipy.optimize import root\n",
    "\n",
    "strr = ' '\n",
    "\n",
    "def g(x):\n",
    "    return -(29.4*x**2+20*x-8.8)\n",
    "def f(x):\n",
    "    return -(9.8*x**3 + 10*x**2 - 8.8*x)\n",
    "def MPI(q,alpha,e,x0, x_r):\n",
    "    w = []\n",
    "    x1=x0\n",
    "    x2=x1-alpha*f(x1)\n",
    "    kol = 1\n",
    "    print(\"n итер. | приближение X(n)           |  Апостериорная оценка                             |\")\n",
    "    print(\"________|____________________________|___________________________________________________|\")\n",
    "    strr2 = \"{} <= {}\".format(abs(x2 - x_r), q/(1-q)*abs(x2 - x_r))\n",
    "    print(\"  {}     |  {} {}|  {} {}|\".format(kol, x2, (25-len(str(x2)))*strr, strr2, strr*(48 - len(strr2))))\n",
    "    print(\"________|____________________________|___________________________________________________|\")\n",
    "    w.append((x2-x_r)/(x1-x_r))\n",
    "    pog = e*(1-q)/q\n",
    "    while abs(x1-x2) > pog:\n",
    "        x1=x2\n",
    "        x2=x1-alpha*f(x1)\n",
    "        kol += 1\n",
    "        strr2 = \"{} <= {}\".format(abs(x2 - x_r), q/(1-q)*abs(x2 - x_r))\n",
    "        print(\"  {}     |  {} {}|  {} {}|\".format(kol, x2, (25-len(str(x2)))*strr, strr2, strr*(48 - len(strr2))))\n",
    "        print(\"________|____________________________|___________________________________________________|\")\n",
    "        w.append((x2-x_r)/(x1-x_r))\n",
    "    return (w, x2, kol)\n",
    "\n",
    "w = []\n",
    "e = 10**(-13)\n",
    "a = -0.1\n",
    "b = 0.1\n",
    "xd = np.linspace(a, b, 100)\n",
    "m = min(g(xd))\n",
    "M = max(g(xd))\n",
    "q = (M-m) / (M+m)\n",
    "alpha = 2 / (m+M)\n",
    "x0 = -0.02\n",
    "r = root(f, x0)\n",
    "x_r = r.x[0]\n",
    "w, x3, c = MPI(q,alpha,e,x0, x_r)\n",
    "print(\"m =\", m, \"; M =\", M)\n",
    "print(\"alpha = {0:.5f}; q = {1:.5f}; e = {2:.5f}; x0 = {3:.3f};\".format(alpha, q, e, x0))\n",
    "print(\"x = {}; f(x) = {}; кол-во итераций: {}.\\n\\n\".format(x3, f(x3), c))\n",
    "i = 1\n",
    "for t in w:\n",
    "    print(\"{} Скорость убывания погрешности: {}\\n\".format(i, t))\n",
    "    i += 1"
   ]
  },
  {
   "cell_type": "code",
   "execution_count": 24,
   "id": "5ecbb246",
   "metadata": {},
   "outputs": [
    {
     "name": "stdout",
     "output_type": "stream",
     "text": [
      "x = 0.0; f(x) = 0.0\n"
     ]
    }
   ],
   "source": [
    "from scipy.optimize import root\n",
    "def f(x):\n",
    "    return 9.8*x**3 + 10*x**2 - 8.8*x\n",
    "r = root(f, x0)\n",
    "x_r = r.x[0]\n",
    "print(\"x = {}; f(x) = {}\".format(x_r, f(x_r)))\n"
   ]
  },
  {
   "cell_type": "code",
   "execution_count": 16,
   "id": "51de3363",
   "metadata": {},
   "outputs": [
    {
     "name": "stdout",
     "output_type": "stream",
     "text": [
      "|x3 - x_r| <= |x0 - x_r| * q^c\n",
      "|0.5660257365439967 - 0.5660242345661401| <= |0.6 - 0.5660242345661401| * 0.3926694132689302^5\n",
      "1.5019778565328323e-06 <= 0.000317179139941751\n"
     ]
    }
   ],
   "source": [
    "#Априорная оценка\n",
    "print(\"|x3 - x_r| <= |x0 - x_r| * q^c\\n|{0} - {1}| <= |{2} - {1}| * {3}^{4}\".format(x3, x_r, x0, q, c))\n",
    "print(abs(x3 - x_r), \"<=\", (q**c)*abs(x0 - x_r))\n"
   ]
  },
  {
   "cell_type": "code",
   "execution_count": 8,
   "id": "fe8f0c51",
   "metadata": {},
   "outputs": [
    {
     "name": "stdout",
     "output_type": "stream",
     "text": [
      "x           f(x)\n",
      "-2.0; -20.800\n",
      "-1.8; -11.115\n",
      "-1.7; -3.632\n",
      "-1.5; 1.881\n",
      "-1.4; 5.656\n",
      "-1.2; 7.922\n",
      "-1.1; 8.913\n",
      "-0.9; 8.860\n",
      "-0.7; 7.993\n",
      "-0.6; 6.545\n",
      "-0.4; 4.747\n",
      "-0.3; 2.830\n",
      "-0.1; 1.026\n",
      "0.1; -0.434\n",
      "0.2; -1.318\n",
      "0.4; -1.395\n",
      "0.5; -0.433\n",
      "0.7; 1.799\n",
      "0.8; 5.533\n",
      "1.0; 11.000\n"
     ]
    },
    {
     "data": {
      "image/png": "[encoded data removed]",
      "text/plain": [
       "<Figure size 432x288 with 1 Axes>"
      ]
     },
     "metadata": {
      "needs_background": "light"
     },
     "output_type": "display_data"
    }
   ],
   "source": [
    "import numpy as np\n",
    "import matplotlib.pyplot as plt\n",
    "\n",
    "def f(x):\n",
    "    return 9.8*x**3 + 10*x**2 - 8.8*x\n",
    "\n",
    "x=np.linspace(-2, 1, 20)\n",
    "plt.grid(True)\n",
    "plt.plot(x,f(x),color='blue', label='o-s')\n",
    "\n",
    "print(\"x           f(x)\")\n",
    "for it in x:\n",
    "    print(\"{0:.1f}; {1:.3f}\". format (it, f(it)))"
   ]
  },
  {
   "cell_type": "code",
   "execution_count": 22,
   "id": "21d3113e",
   "metadata": {},
   "outputs": [
    {
     "name": "stdout",
     "output_type": "stream",
     "text": [
      "x           g(x)\n",
      "-2.0; 68.800\n",
      "-1.9; 59.334\n",
      "-1.8; 50.456\n",
      "-1.7; 42.166\n",
      "-1.6; 34.464\n",
      "-1.5; 27.350\n",
      "-1.4; 20.824\n",
      "-1.3; 14.886\n",
      "-1.2; 9.536\n",
      "-1.1; 4.774\n",
      "-1.0; 0.600\n",
      "-0.9; -2.986\n",
      "-0.8; -5.984\n",
      "-0.7; -8.394\n",
      "-0.6; -10.216\n",
      "-0.5; -11.450\n",
      "-0.4; -12.096\n",
      "-0.3; -12.154\n",
      "-0.2; -11.624\n",
      "-0.1; -10.506\n",
      "0.0; -8.800\n",
      "0.1; -6.506\n",
      "0.2; -3.624\n",
      "0.3; -0.154\n",
      "0.4; 3.904\n",
      "0.5; 8.550\n",
      "0.6; 13.784\n",
      "0.7; 19.606\n",
      "0.8; 26.016\n",
      "0.9; 33.014\n",
      "m = -12.027146814404434 ; M = 68.8\n"
     ]
    },
    {
     "data": {
      "text/plain": [
       "[<matplotlib.lines.Line2D at 0x1394949d790>]"
      ]
     },
     "execution_count": 22,
     "metadata": {},
     "output_type": "execute_result"
    },
    {
     "data": {
      "image/png": "[encoded data removed]",
      "text/plain": [
       "<Figure size 432x288 with 1 Axes>"
      ]
     },
     "metadata": {
      "needs_background": "light"
     },
     "output_type": "display_data"
    }
   ],
   "source": [
    "import numpy as np\n",
    "import matplotlib.pyplot as plt\n",
    "\n",
    "def f(x):\n",
    "    return 9.8*x**3 + 10*x**2 - 8.8*x\n",
    "def g(x):\n",
    "    return 29.4*x**2+20*x-8.8\n",
    "\n",
    "a = -2\n",
    "b = 1\n",
    "k = a\n",
    "\n",
    "print(\"x           g(x)\")\n",
    "while k <= b:\n",
    "    print(\"{0:.1f}; {1:.3f}\". format (k, g(k)))\n",
    "    k += 0.1\n",
    "    \n",
    "xg = np.linspace(-2, 1, 20)\n",
    "m = min(g(xg))\n",
    "M = max(g(xg))\n",
    "\n",
    "print(\"m =\", m, \"; M =\", M)\n",
    "plt.grid(True)\n",
    "plt.plot(x,f(x),color='blue', label='f')\n",
    "plt.plot(x,g(x),color='red', label='g', ls='', marker='.', markersize=10)"
   ]
  },
  {
   "cell_type": "code",
   "execution_count": null,
   "id": "23ff8319",
   "metadata": {},
   "outputs": [],
   "source": []
  }
 ],
 "metadata": {
  "kernelspec": {
   "display_name": "Python 3 (ipykernel)",
   "language": "python",
   "name": "python3"
  },
  "language_info": {
   "codemirror_mode": {
    "name": "ipython",
    "version": 3
   },
   "file_extension": ".py",
   "mimetype": "text/x-python",
   "name": "python",
   "nbconvert_exporter": "python",
   "pygments_lexer": "ipython3",
   "version": "3.9.7"
  }
 },
 "nbformat": 4,
 "nbformat_minor": 5
}
